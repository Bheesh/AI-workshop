{
  "nbformat": 4,
  "nbformat_minor": 0,
  "metadata": {
    "colab": {
      "name": "Apparel recommendation aasignment.ipynb",
      "version": "0.3.2",
      "provenance": [],
      "collapsed_sections": []
    },
    "kernelspec": {
      "name": "python3",
      "display_name": "Python 3"
    },
    "accelerator": "GPU"
  },
  "cells": [
    {
      "cell_type": "code",
      "metadata": {
        "id": "Ml4eV_8MYKSY",
        "colab_type": "code",
        "outputId": "b5d051d4-5a81-489d-cefc-ee0a654ca10a",
        "colab": {
          "base_uri": "https://localhost:8080/",
          "height": 17
        }
      },
      "source": [
        "#import all the necessary packages.\n",
        "\n",
        "from PIL import Image\n",
        "import requests\n",
        "from io import BytesIO\n",
        "import matplotlib.pyplot as plt\n",
        "import numpy as np\n",
        "import pandas as pd\n",
        "import warnings\n",
        "from bs4 import BeautifulSoup\n",
        "from nltk.corpus import stopwords\n",
        "from nltk.tokenize import word_tokenize\n",
        "import nltk\n",
        "import math\n",
        "import time\n",
        "import re\n",
        "import os\n",
        "import seaborn as sns\n",
        "from collections import Counter\n",
        "from sklearn.feature_extraction.text import CountVectorizer\n",
        "from sklearn.feature_extraction.text import TfidfVectorizer\n",
        "from sklearn.metrics.pairwise import cosine_similarity  \n",
        "from sklearn.metrics import pairwise_distances\n",
        "from matplotlib import gridspec\n",
        "from scipy.sparse import hstack\n",
        "import plotly\n",
        "import plotly.figure_factory as ff\n",
        "from plotly.graph_objs import Scatter, Layout\n",
        "\n",
        "plotly.offline.init_notebook_mode(connected=True)\n",
        "warnings.filterwarnings(\"ignore\")"
      ],
      "execution_count": 0,
      "outputs": [
        {
          "output_type": "display_data",
          "data": {
            "text/vnd.plotly.v1+html": "<script type=\"text/javascript\">window.PlotlyConfig = {MathJaxConfig: 'local'};</script><script type=\"text/javascript\">if (window.MathJax) {MathJax.Hub.Config({SVG: {font: \"STIX-Web\"}});}</script><script>requirejs.config({paths: { 'plotly': ['https://cdn.plot.ly/plotly-latest.min']},});if(!window._Plotly) {require(['plotly'],function(plotly) {window._Plotly=plotly;});}</script>",
            "text/html": [
              "<script type=\"text/javascript\">window.PlotlyConfig = {MathJaxConfig: 'local'};</script><script type=\"text/javascript\">if (window.MathJax) {MathJax.Hub.Config({SVG: {font: \"STIX-Web\"}});}</script><script>requirejs.config({paths: { 'plotly': ['https://cdn.plot.ly/plotly-latest.min']},});if(!window._Plotly) {require(['plotly'],function(plotly) {window._Plotly=plotly;});}</script>"
            ]
          },
          "metadata": {
            "tags": []
          }
        }
      ]
    },
    {
      "cell_type": "markdown",
      "metadata": {
        "id": "yezsdqjboCLQ",
        "colab_type": "text"
      },
      "source": [
        ""
      ]
    },
    {
      "cell_type": "code",
      "metadata": {
        "id": "drmSWLKxYbUN",
        "colab_type": "code",
        "outputId": "d3de4c54-e697-4bbf-ca23-a5dcbe2c661e",
        "colab": {
          "base_uri": "https://localhost:8080/",
          "height": 52
        }
      },
      "source": [
        "!pip install -U -q PyDrive\n",
        "from pydrive.auth import GoogleAuth\n",
        "from pydrive.drive import GoogleDrive\n",
        "from google.colab import auth\n",
        "from oauth2client.client import GoogleCredentials\n",
        "\n",
        " # 1. Authenticate and create the PyDrive client.\n",
        "auth.authenticate_user()\n",
        "gauth = GoogleAuth()\n",
        "gauth.credentials = GoogleCredentials.get_application_default()\n",
        "drive = GoogleDrive(gauth)"
      ],
      "execution_count": 0,
      "outputs": [
        {
          "output_type": "stream",
          "text": [
            "\u001b[?25l\r\u001b[K     |▎                               | 10kB 19.0MB/s eta 0:00:01\r\u001b[K     |▋                               | 20kB 2.5MB/s eta 0:00:01\r\u001b[K     |█                               | 30kB 3.6MB/s eta 0:00:01\r\u001b[K     |█▎                              | 40kB 2.2MB/s eta 0:00:01\r\u001b[K     |█▋                              | 51kB 2.7MB/s eta 0:00:01\r\u001b[K     |██                              | 61kB 3.2MB/s eta 0:00:01\r\u001b[K     |██▎                             | 71kB 3.7MB/s eta 0:00:01\r\u001b[K     |██▋                             | 81kB 4.2MB/s eta 0:00:01\r\u001b[K     |███                             | 92kB 4.7MB/s eta 0:00:01\r\u001b[K     |███▎                            | 102kB 3.5MB/s eta 0:00:01\r\u001b[K     |███▋                            | 112kB 3.5MB/s eta 0:00:01\r\u001b[K     |████                            | 122kB 3.5MB/s eta 0:00:01\r\u001b[K     |████▎                           | 133kB 3.5MB/s eta 0:00:01\r\u001b[K     |████▋                           | 143kB 3.5MB/s eta 0:00:01\r\u001b[K     |█████                           | 153kB 3.5MB/s eta 0:00:01\r\u001b[K     |█████▎                          | 163kB 3.5MB/s eta 0:00:01\r\u001b[K     |█████▋                          | 174kB 3.5MB/s eta 0:00:01\r\u001b[K     |██████                          | 184kB 3.5MB/s eta 0:00:01\r\u001b[K     |██████▎                         | 194kB 3.5MB/s eta 0:00:01\r\u001b[K     |██████▋                         | 204kB 3.5MB/s eta 0:00:01\r\u001b[K     |███████                         | 215kB 3.5MB/s eta 0:00:01\r\u001b[K     |███████▎                        | 225kB 3.5MB/s eta 0:00:01\r\u001b[K     |███████▋                        | 235kB 3.5MB/s eta 0:00:01\r\u001b[K     |████████                        | 245kB 3.5MB/s eta 0:00:01\r\u001b[K     |████████▎                       | 256kB 3.5MB/s eta 0:00:01\r\u001b[K     |████████▋                       | 266kB 3.5MB/s eta 0:00:01\r\u001b[K     |█████████                       | 276kB 3.5MB/s eta 0:00:01\r\u001b[K     |█████████▎                      | 286kB 3.5MB/s eta 0:00:01\r\u001b[K     |█████████▋                      | 296kB 3.5MB/s eta 0:00:01\r\u001b[K     |██████████                      | 307kB 3.5MB/s eta 0:00:01\r\u001b[K     |██████████▎                     | 317kB 3.5MB/s eta 0:00:01\r\u001b[K     |██████████▋                     | 327kB 3.5MB/s eta 0:00:01\r\u001b[K     |███████████                     | 337kB 3.5MB/s eta 0:00:01\r\u001b[K     |███████████▎                    | 348kB 3.5MB/s eta 0:00:01\r\u001b[K     |███████████▋                    | 358kB 3.5MB/s eta 0:00:01\r\u001b[K     |████████████                    | 368kB 3.5MB/s eta 0:00:01\r\u001b[K     |████████████▎                   | 378kB 3.5MB/s eta 0:00:01\r\u001b[K     |████████████▋                   | 389kB 3.5MB/s eta 0:00:01\r\u001b[K     |█████████████                   | 399kB 3.5MB/s eta 0:00:01\r\u001b[K     |█████████████▎                  | 409kB 3.5MB/s eta 0:00:01\r\u001b[K     |█████████████▋                  | 419kB 3.5MB/s eta 0:00:01\r\u001b[K     |██████████████                  | 430kB 3.5MB/s eta 0:00:01\r\u001b[K     |██████████████▎                 | 440kB 3.5MB/s eta 0:00:01\r\u001b[K     |██████████████▋                 | 450kB 3.5MB/s eta 0:00:01\r\u001b[K     |███████████████                 | 460kB 3.5MB/s eta 0:00:01\r\u001b[K     |███████████████▎                | 471kB 3.5MB/s eta 0:00:01\r\u001b[K     |███████████████▋                | 481kB 3.5MB/s eta 0:00:01\r\u001b[K     |████████████████                | 491kB 3.5MB/s eta 0:00:01\r\u001b[K     |████████████████▎               | 501kB 3.5MB/s eta 0:00:01\r\u001b[K     |████████████████▋               | 512kB 3.5MB/s eta 0:00:01\r\u001b[K     |█████████████████               | 522kB 3.5MB/s eta 0:00:01\r\u001b[K     |█████████████████▎              | 532kB 3.5MB/s eta 0:00:01\r\u001b[K     |█████████████████▋              | 542kB 3.5MB/s eta 0:00:01\r\u001b[K     |██████████████████              | 552kB 3.5MB/s eta 0:00:01\r\u001b[K     |██████████████████▎             | 563kB 3.5MB/s eta 0:00:01\r\u001b[K     |██████████████████▋             | 573kB 3.5MB/s eta 0:00:01\r\u001b[K     |███████████████████             | 583kB 3.5MB/s eta 0:00:01\r\u001b[K     |███████████████████▎            | 593kB 3.5MB/s eta 0:00:01\r\u001b[K     |███████████████████▋            | 604kB 3.5MB/s eta 0:00:01\r\u001b[K     |████████████████████            | 614kB 3.5MB/s eta 0:00:01\r\u001b[K     |████████████████████▎           | 624kB 3.5MB/s eta 0:00:01\r\u001b[K     |████████████████████▋           | 634kB 3.5MB/s eta 0:00:01\r\u001b[K     |█████████████████████           | 645kB 3.5MB/s eta 0:00:01\r\u001b[K     |█████████████████████▎          | 655kB 3.5MB/s eta 0:00:01\r\u001b[K     |█████████████████████▋          | 665kB 3.5MB/s eta 0:00:01\r\u001b[K     |██████████████████████          | 675kB 3.5MB/s eta 0:00:01\r\u001b[K     |██████████████████████▎         | 686kB 3.5MB/s eta 0:00:01\r\u001b[K     |██████████████████████▋         | 696kB 3.5MB/s eta 0:00:01\r\u001b[K     |███████████████████████         | 706kB 3.5MB/s eta 0:00:01\r\u001b[K     |███████████████████████▎        | 716kB 3.5MB/s eta 0:00:01\r\u001b[K     |███████████████████████▋        | 727kB 3.5MB/s eta 0:00:01\r\u001b[K     |████████████████████████        | 737kB 3.5MB/s eta 0:00:01\r\u001b[K     |████████████████████████▎       | 747kB 3.5MB/s eta 0:00:01\r\u001b[K     |████████████████████████▋       | 757kB 3.5MB/s eta 0:00:01\r\u001b[K     |████████████████████████▉       | 768kB 3.5MB/s eta 0:00:01\r\u001b[K     |█████████████████████████▏      | 778kB 3.5MB/s eta 0:00:01\r\u001b[K     |█████████████████████████▌      | 788kB 3.5MB/s eta 0:00:01\r\u001b[K     |█████████████████████████▉      | 798kB 3.5MB/s eta 0:00:01\r\u001b[K     |██████████████████████████▏     | 808kB 3.5MB/s eta 0:00:01\r\u001b[K     |██████████████████████████▌     | 819kB 3.5MB/s eta 0:00:01\r\u001b[K     |██████████████████████████▉     | 829kB 3.5MB/s eta 0:00:01\r\u001b[K     |███████████████████████████▏    | 839kB 3.5MB/s eta 0:00:01\r\u001b[K     |███████████████████████████▌    | 849kB 3.5MB/s eta 0:00:01\r\u001b[K     |███████████████████████████▉    | 860kB 3.5MB/s eta 0:00:01\r\u001b[K     |████████████████████████████▏   | 870kB 3.5MB/s eta 0:00:01\r\u001b[K     |████████████████████████████▌   | 880kB 3.5MB/s eta 0:00:01\r\u001b[K     |████████████████████████████▉   | 890kB 3.5MB/s eta 0:00:01\r\u001b[K     |█████████████████████████████▏  | 901kB 3.5MB/s eta 0:00:01\r\u001b[K     |█████████████████████████████▌  | 911kB 3.5MB/s eta 0:00:01\r\u001b[K     |█████████████████████████████▉  | 921kB 3.5MB/s eta 0:00:01\r\u001b[K     |██████████████████████████████▏ | 931kB 3.5MB/s eta 0:00:01\r\u001b[K     |██████████████████████████████▌ | 942kB 3.5MB/s eta 0:00:01\r\u001b[K     |██████████████████████████████▉ | 952kB 3.5MB/s eta 0:00:01\r\u001b[K     |███████████████████████████████▏| 962kB 3.5MB/s eta 0:00:01\r\u001b[K     |███████████████████████████████▌| 972kB 3.5MB/s eta 0:00:01\r\u001b[K     |███████████████████████████████▉| 983kB 3.5MB/s eta 0:00:01\r\u001b[K     |████████████████████████████████| 993kB 3.5MB/s \n",
            "\u001b[?25h  Building wheel for PyDrive (setup.py) ... \u001b[?25l\u001b[?25hdone\n"
          ],
          "name": "stdout"
        }
      ]
    },
    {
      "cell_type": "code",
      "metadata": {
        "id": "OwHb3JW9YbW8",
        "colab_type": "code",
        "colab": {}
      },
      "source": [
        ""
      ],
      "execution_count": 0,
      "outputs": []
    },
    {
      "cell_type": "markdown",
      "metadata": {
        "id": "OUOhipBNgAlE",
        "colab_type": "text"
      },
      "source": [
        "## **Importing files to get Text, brand,colour and Image**"
      ]
    },
    {
      "cell_type": "code",
      "metadata": {
        "id": "htMgUJNRYbZd",
        "colab_type": "code",
        "outputId": "42302d9e-f2df-4ea8-bfba-589c6279a42a",
        "colab": {
          "base_uri": "https://localhost:8080/",
          "height": 34
        }
      },
      "source": [
        "from google.colab import files\n",
        "from google.colab import drive\n",
        "import json\n",
        "drive.mount('/content/drive')"
      ],
      "execution_count": 0,
      "outputs": [
        {
          "output_type": "stream",
          "text": [
            "Drive already mounted at /content/drive; to attempt to forcibly remount, call drive.mount(\"/content/drive\", force_remount=True).\n"
          ],
          "name": "stdout"
        }
      ]
    },
    {
      "cell_type": "code",
      "metadata": {
        "id": "1oKI4COHYbcM",
        "colab_type": "code",
        "colab": {}
      },
      "source": [
        "#https://stackoverflow.com/questions/49206488/accessing-pickle-file-in-google-colab\n",
        "import pickle\n",
        "#drive.mount('/content/drive')\n",
        "DATA_PATH = \"/content/drive/My Drive/Asgn/Apparel\"\n",
        "infile = open(DATA_PATH+'/16k_apperal_data_preprocessed','rb')\n",
        "data = pickle.load(infile)"
      ],
      "execution_count": 0,
      "outputs": []
    },
    {
      "cell_type": "code",
      "metadata": {
        "id": "KmjiBqevYbeu",
        "colab_type": "code",
        "outputId": "c945687b-dd7d-49a7-90d3-ed2027a11430",
        "colab": {
          "base_uri": "https://localhost:8080/",
          "height": 509
        }
      },
      "source": [
        "data.head(15)"
      ],
      "execution_count": 0,
      "outputs": [
        {
          "output_type": "execute_result",
          "data": {
            "text/html": [
              "<div>\n",
              "<style scoped>\n",
              "    .dataframe tbody tr th:only-of-type {\n",
              "        vertical-align: middle;\n",
              "    }\n",
              "\n",
              "    .dataframe tbody tr th {\n",
              "        vertical-align: top;\n",
              "    }\n",
              "\n",
              "    .dataframe thead th {\n",
              "        text-align: right;\n",
              "    }\n",
              "</style>\n",
              "<table border=\"1\" class=\"dataframe\">\n",
              "  <thead>\n",
              "    <tr style=\"text-align: right;\">\n",
              "      <th></th>\n",
              "      <th>asin</th>\n",
              "      <th>brand</th>\n",
              "      <th>color</th>\n",
              "      <th>medium_image_url</th>\n",
              "      <th>product_type_name</th>\n",
              "      <th>title</th>\n",
              "      <th>formatted_price</th>\n",
              "    </tr>\n",
              "  </thead>\n",
              "  <tbody>\n",
              "    <tr>\n",
              "      <th>4</th>\n",
              "      <td>B004GSI2OS</td>\n",
              "      <td>FeatherLite</td>\n",
              "      <td>Onyx Black/ Stone</td>\n",
              "      <td>https://images-na.ssl-images-amazon.com/images...</td>\n",
              "      <td>SHIRT</td>\n",
              "      <td>featherlite ladies long sleeve stain resistant...</td>\n",
              "      <td>$26.26</td>\n",
              "    </tr>\n",
              "    <tr>\n",
              "      <th>6</th>\n",
              "      <td>B012YX2ZPI</td>\n",
              "      <td>HX-Kingdom Fashion T-shirts</td>\n",
              "      <td>White</td>\n",
              "      <td>https://images-na.ssl-images-amazon.com/images...</td>\n",
              "      <td>SHIRT</td>\n",
              "      <td>womens unique 100 cotton  special olympics wor...</td>\n",
              "      <td>$9.99</td>\n",
              "    </tr>\n",
              "    <tr>\n",
              "      <th>15</th>\n",
              "      <td>B003BSRPB0</td>\n",
              "      <td>FeatherLite</td>\n",
              "      <td>White</td>\n",
              "      <td>https://images-na.ssl-images-amazon.com/images...</td>\n",
              "      <td>SHIRT</td>\n",
              "      <td>featherlite ladies moisture free mesh sport sh...</td>\n",
              "      <td>$20.54</td>\n",
              "    </tr>\n",
              "    <tr>\n",
              "      <th>27</th>\n",
              "      <td>B014ICEJ1Q</td>\n",
              "      <td>FNC7C</td>\n",
              "      <td>Purple</td>\n",
              "      <td>https://images-na.ssl-images-amazon.com/images...</td>\n",
              "      <td>SHIRT</td>\n",
              "      <td>supernatural chibis sam dean castiel neck tshi...</td>\n",
              "      <td>$7.39</td>\n",
              "    </tr>\n",
              "    <tr>\n",
              "      <th>46</th>\n",
              "      <td>B01NACPBG2</td>\n",
              "      <td>Fifth Degree</td>\n",
              "      <td>Black</td>\n",
              "      <td>https://images-na.ssl-images-amazon.com/images...</td>\n",
              "      <td>SHIRT</td>\n",
              "      <td>fifth degree womens gold foil graphic tees jun...</td>\n",
              "      <td>$6.95</td>\n",
              "    </tr>\n",
              "    <tr>\n",
              "      <th>60</th>\n",
              "      <td>B014ICB9A0</td>\n",
              "      <td>FNC7C</td>\n",
              "      <td>Black</td>\n",
              "      <td>https://images-na.ssl-images-amazon.com/images...</td>\n",
              "      <td>APPAREL</td>\n",
              "      <td>supernatural chibis sam dean castiel neck shir...</td>\n",
              "      <td>$7.39</td>\n",
              "    </tr>\n",
              "    <tr>\n",
              "      <th>78</th>\n",
              "      <td>B011YPK0MW</td>\n",
              "      <td>Feel The Piece</td>\n",
              "      <td>Navy</td>\n",
              "      <td>https://images-na.ssl-images-amazon.com/images...</td>\n",
              "      <td>SHIRT</td>\n",
              "      <td>feel piece sami dip dye top one size navy</td>\n",
              "      <td>$72.40</td>\n",
              "    </tr>\n",
              "    <tr>\n",
              "      <th>95</th>\n",
              "      <td>B0079QXJ3S</td>\n",
              "      <td>FineBrandShop</td>\n",
              "      <td>Fuchsia</td>\n",
              "      <td>https://images-na.ssl-images-amazon.com/images...</td>\n",
              "      <td>SHIRT</td>\n",
              "      <td>ladies fuchsia pink seamless stone set tube top</td>\n",
              "      <td>$7.50</td>\n",
              "    </tr>\n",
              "    <tr>\n",
              "      <th>107</th>\n",
              "      <td>B00R7DO9ZA</td>\n",
              "      <td>Finejo</td>\n",
              "      <td>white</td>\n",
              "      <td>https://images-na.ssl-images-amazon.com/images...</td>\n",
              "      <td>SHIRT</td>\n",
              "      <td>finejo ladies sleeveless shirt lace shirts hig...</td>\n",
              "      <td>$11.99</td>\n",
              "    </tr>\n",
              "    <tr>\n",
              "      <th>121</th>\n",
              "      <td>B011JQWCCM</td>\n",
              "      <td>Ferrari</td>\n",
              "      <td>Red</td>\n",
              "      <td>https://images-na.ssl-images-amazon.com/images...</td>\n",
              "      <td>SHIRT</td>\n",
              "      <td>puma womens ferrari big shield tee rosso corsa...</td>\n",
              "      <td>$34.99</td>\n",
              "    </tr>\n",
              "    <tr>\n",
              "      <th>133</th>\n",
              "      <td>B01NAZ3L3C</td>\n",
              "      <td>Fifth Degree</td>\n",
              "      <td>Black</td>\n",
              "      <td>https://images-na.ssl-images-amazon.com/images...</td>\n",
              "      <td>SHIRT</td>\n",
              "      <td>vein womens angels diamonds 34 sequin sleeve c...</td>\n",
              "      <td>$21.00</td>\n",
              "    </tr>\n",
              "    <tr>\n",
              "      <th>138</th>\n",
              "      <td>B01I5GRO18</td>\n",
              "      <td>FIFTEEN TWENTY</td>\n",
              "      <td>Eggshell</td>\n",
              "      <td>https://images-na.ssl-images-amazon.com/images...</td>\n",
              "      <td>SHIRT</td>\n",
              "      <td>fifteentwenty womens shirred hem ruffle blouse...</td>\n",
              "      <td>$65.00</td>\n",
              "    </tr>\n",
              "    <tr>\n",
              "      <th>139</th>\n",
              "      <td>B002ZZT446</td>\n",
              "      <td>Florida Hat Company</td>\n",
              "      <td>Purple</td>\n",
              "      <td>https://images-na.ssl-images-amazon.com/images...</td>\n",
              "      <td>HAT</td>\n",
              "      <td>short purple gloves  satin feel</td>\n",
              "      <td>$6.99</td>\n",
              "    </tr>\n",
              "    <tr>\n",
              "      <th>147</th>\n",
              "      <td>B015K88D78</td>\n",
              "      <td>Fire-Dog-Custom Tees</td>\n",
              "      <td>Pink</td>\n",
              "      <td>https://images-na.ssl-images-amazon.com/images...</td>\n",
              "      <td>SHIRT</td>\n",
              "      <td>womens west ham united fc logo short sleeve te...</td>\n",
              "      <td>$9.75</td>\n",
              "    </tr>\n",
              "    <tr>\n",
              "      <th>169</th>\n",
              "      <td>B003BSPZ5I</td>\n",
              "      <td>FeatherLite</td>\n",
              "      <td>Green</td>\n",
              "      <td>https://images-na.ssl-images-amazon.com/images...</td>\n",
              "      <td>SHIRT</td>\n",
              "      <td>featherlite ladies pique sport shirt forest gr...</td>\n",
              "      <td>$16.70</td>\n",
              "    </tr>\n",
              "  </tbody>\n",
              "</table>\n",
              "</div>"
            ],
            "text/plain": [
              "           asin  ... formatted_price\n",
              "4    B004GSI2OS  ...          $26.26\n",
              "6    B012YX2ZPI  ...           $9.99\n",
              "15   B003BSRPB0  ...          $20.54\n",
              "27   B014ICEJ1Q  ...           $7.39\n",
              "46   B01NACPBG2  ...           $6.95\n",
              "60   B014ICB9A0  ...           $7.39\n",
              "78   B011YPK0MW  ...          $72.40\n",
              "95   B0079QXJ3S  ...           $7.50\n",
              "107  B00R7DO9ZA  ...          $11.99\n",
              "121  B011JQWCCM  ...          $34.99\n",
              "133  B01NAZ3L3C  ...          $21.00\n",
              "138  B01I5GRO18  ...          $65.00\n",
              "139  B002ZZT446  ...           $6.99\n",
              "147  B015K88D78  ...           $9.75\n",
              "169  B003BSPZ5I  ...          $16.70\n",
              "\n",
              "[15 rows x 7 columns]"
            ]
          },
          "metadata": {
            "tags": []
          },
          "execution_count": 7
        }
      ]
    },
    {
      "cell_type": "code",
      "metadata": {
        "id": "Fbq3s1dUhtNV",
        "colab_type": "code",
        "colab": {}
      },
      "source": [
        "idf_title_vectorizer = CountVectorizer()\n",
        "idf_title_features = idf_title_vectorizer.fit_transform(data['title'])\n",
        "\n",
        "# idf_title_features.shape = #data_points * #words_in_corpus\n",
        "# CountVectorizer().fit_transform(courpus) returns the a sparase matrix of dimensions #data_points * #words_in_corpus\n",
        "# idf_title_features[doc_id, index_of_word_in_corpus] = number of times the word occured in that doc"
      ],
      "execution_count": 0,
      "outputs": []
    },
    {
      "cell_type": "code",
      "metadata": {
        "id": "VLyYxdXyhtQB",
        "colab_type": "code",
        "colab": {}
      },
      "source": [
        "def n_containing(word):\n",
        "    # return the number of documents which had the given word\n",
        "    return sum(1 for blob in data['title'] if word in blob.split())\n",
        "\n",
        "def idf(word):\n",
        "    # idf = log(#number of docs / #number of docs which had the given word)\n",
        "    return math.log(data.shape[0] / (n_containing(word)))"
      ],
      "execution_count": 0,
      "outputs": []
    },
    {
      "cell_type": "code",
      "metadata": {
        "id": "udJ0qhV9htSp",
        "colab_type": "code",
        "colab": {}
      },
      "source": [
        "# we need to convert the values into float\n",
        "idf_title_features  = idf_title_features.astype(np.float)\n",
        "\n",
        "for i in idf_title_vectorizer.vocabulary_.keys():\n",
        "    # for every word in whole corpus we will find its idf value\n",
        "    idf_val = idf(i)\n",
        "    \n",
        "    # to calculate idf_title_features we need to replace the count values with the idf values of the word\n",
        "    # idf_title_features[:, idf_title_vectorizer.vocabulary_[i]].nonzero()[0] will return all documents in which the word i present\n",
        "    for j in idf_title_features[:, idf_title_vectorizer.vocabulary_[i]].nonzero()[0]:\n",
        "        \n",
        "        # we replace the count values of word i in document j with  idf_value of word i \n",
        "        # idf_title_features[doc_id, index_of_word_in_courpus] = idf value of word\n",
        "        idf_title_features[j,idf_title_vectorizer.vocabulary_[i]] = idf_val\n",
        "        "
      ],
      "execution_count": 0,
      "outputs": []
    },
    {
      "cell_type": "code",
      "metadata": {
        "id": "UlKUHnAYhtVR",
        "colab_type": "code",
        "outputId": "d9b5eaed-49cd-499a-c1ee-2c371e28f267",
        "colab": {
          "base_uri": "https://localhost:8080/",
          "height": 34
        }
      },
      "source": [
        "from gensim.models import Word2Vec\n",
        "from gensim.models import KeyedVectors\n",
        "\n",
        "#https://stackoverflow.com/questions/49206488/accessing-pickle-file-in-google-colab\n",
        "import pickle\n",
        "drive.mount('/content/drive')\n",
        "DATA_PATH = \"/content/drive/My Drive/Asgn/Apparel\"\n",
        "infile = open(DATA_PATH+'/word2vec_model','rb')\n",
        "model = pickle.load(infile)"
      ],
      "execution_count": 0,
      "outputs": [
        {
          "output_type": "stream",
          "text": [
            "Drive already mounted at /content/drive; to attempt to forcibly remount, call drive.mount(\"/content/drive\", force_remount=True).\n"
          ],
          "name": "stdout"
        }
      ]
    },
    {
      "cell_type": "code",
      "metadata": {
        "id": "ZWYOeDZahtXj",
        "colab_type": "code",
        "colab": {}
      },
      "source": [
        "# Utility functions\n",
        "\n",
        "def get_word_vec(sentence, doc_id, m_name):\n",
        "    # sentence : title of the apparel\n",
        "    # doc_id: document id in our corpus\n",
        "    # m_name: model information it will take two values\n",
        "        # if  m_name == 'avg', we will append the model[i], w2v representation of word i\n",
        "        # if m_name == 'weighted', we will multiply each w2v[word] with the idf(word)\n",
        "    vec = []\n",
        "    for i in sentence.split():\n",
        "        if i in vocab:\n",
        "            if m_name == 'weighted' and i in  idf_title_vectorizer.vocabulary_:\n",
        "                vec.append(idf_title_features[doc_id, idf_title_vectorizer.vocabulary_[i]] * model[i])\n",
        "            elif m_name == 'avg':\n",
        "                vec.append(model[i])\n",
        "        else:\n",
        "            # if the word in our courpus is not there in the google word2vec corpus, we are just ignoring it\n",
        "            vec.append(np.zeros(shape=(300,)))\n",
        "    # we will return a numpy array of shape (#number of words in title * 300 ) 300 = len(w2v_model[word])\n",
        "    # each row represents the word2vec representation of each word (weighted/avg) in given sentance \n",
        "    return  np.array(vec)\n",
        "\n",
        "def get_distance(vec1, vec2):\n",
        "    # vec1 = np.array(#number_of_words_title1 * 300), each row is a vector of length 300 corresponds to each word in give title\n",
        "    # vec2 = np.array(#number_of_words_title2 * 300), each row is a vector of length 300 corresponds to each word in give title\n",
        "    \n",
        "    final_dist = []\n",
        "    # for each vector in vec1 we caluclate the distance(euclidean) to all vectors in vec2\n",
        "    for i in vec1:\n",
        "        dist = []\n",
        "        for j in vec2:\n",
        "            # np.linalg.norm(i-j) will result the euclidean distance between vectors i, j\n",
        "            dist.append(np.linalg.norm(i-j))\n",
        "        final_dist.append(np.array(dist))\n",
        "    # final_dist = np.array(#number of words in title1 * #number of words in title2)\n",
        "    # final_dist[i,j] = euclidean distance between vectors i, j\n",
        "    return np.array(final_dist)\n",
        "\n",
        "\n",
        "def heat_map_w2v(sentence1, sentence2, url, doc_id1, doc_id2, model):\n",
        "    # sentance1 : title1, input apparel\n",
        "    # sentance2 : title2, recommended apparel\n",
        "    # url: apparel image url\n",
        "    # doc_id1: document id of input apparel\n",
        "    # doc_id2: document id of recommended apparel\n",
        "    # model: it can have two values, 1. avg 2. weighted\n",
        "    \n",
        "    #s1_vec = np.array(#number_of_words_title1 * 300), each row is a vector(weighted/avg) of length 300 corresponds to each word in give title\n",
        "    s1_vec = get_word_vec(sentence1, doc_id1, model)\n",
        "    #s2_vec = np.array(#number_of_words_title1 * 300), each row is a vector(weighted/avg) of length 300 corresponds to each word in give title\n",
        "    s2_vec = get_word_vec(sentence2, doc_id2, model)\n",
        "\n",
        "    # s1_s2_dist = np.array(#number of words in title1 * #number of words in title2)\n",
        "    # s1_s2_dist[i,j] = euclidean distance between words i, j\n",
        "    s1_s2_dist = get_distance(s1_vec, s2_vec)\n",
        "\n",
        "    \n",
        "    \n",
        "    # devide whole figure into 2 parts 1st part displays heatmap 2nd part displays image of apparel\n",
        "    gs = gridspec.GridSpec(2, 2, width_ratios=[4,1],height_ratios=[2,1]) \n",
        "    fig = plt.figure(figsize=(15,15))\n",
        "    \n",
        "    ax = plt.subplot(gs[0])\n",
        "    # ploting the heap map based on the pairwise distances\n",
        "    ax = sns.heatmap(np.round(s1_s2_dist,4), annot=True)\n",
        "    # set the x axis labels as recommended apparels title\n",
        "    ax.set_xticklabels(sentence2.split())\n",
        "    # set the y axis labels as input apparels title\n",
        "    ax.set_yticklabels(sentence1.split())\n",
        "    # set title as recommended apparels title\n",
        "    ax.set_title(sentence2)\n",
        "    \n",
        "    ax = plt.subplot(gs[1])\n",
        "    # we remove all grids and axis labels for image\n",
        "    ax.grid(False)\n",
        "    ax.set_xticks([])\n",
        "    ax.set_yticks([])\n",
        "    display_img(url, ax, fig)\n",
        "    \n",
        "    plt.show()"
      ],
      "execution_count": 0,
      "outputs": []
    },
    {
      "cell_type": "code",
      "metadata": {
        "id": "ToFZ80LoqAH4",
        "colab_type": "code",
        "colab": {}
      },
      "source": [
        "def heat_map_w2v_brand(sentance1, sentance2, url, doc_id1, doc_id2, df_id1, df_id2, model):\n",
        "    \n",
        "    # sentance1 : title1, input apparel\n",
        "    # sentance2 : title2, recommended apparel\n",
        "    # url: apparel image url\n",
        "    # doc_id1: document id of input apparel\n",
        "    # doc_id2: document id of recommended apparel\n",
        "    # df_id1: index of document1 in the data frame\n",
        "    # df_id2: index of document2 in the data frame\n",
        "    # model: it can have two values, 1. avg 2. weighted\n",
        "    \n",
        "    #s1_vec = np.array(#number_of_words_title1 * 300), each row is a vector(weighted/avg) of length 300 corresponds to each word in give title\n",
        "    s1_vec = get_word_vec(sentance1, doc_id1, model)\n",
        "    #s2_vec = np.array(#number_of_words_title2 * 300), each row is a vector(weighted/avg) of length 300 corresponds to each word in give title\n",
        "    s2_vec = get_word_vec(sentance2, doc_id2, model)\n",
        "    \n",
        "    # s1_s2_dist = np.array(#number of words in title1 * #number of words in title2)\n",
        "    # s1_s2_dist[i,j] = euclidean distance between words i, j\n",
        "    s1_s2_dist = get_distance(s1_vec, s2_vec)\n",
        "   \n",
        "    data_matrix = [['Asin','Brand', 'Color', 'Product type'],\n",
        "               [data['asin'].loc[df_id1],brands[doc_id1], colors[doc_id1], types[doc_id1]], # input apparel's features\n",
        "               [data['asin'].loc[df_id2],brands[doc_id2], colors[doc_id2], types[doc_id2]]] # recommonded apparel's features\n",
        "    \n",
        "    colorscale = [[0, '#1d004d'],[.5, '#f2e5ff'],[1, '#f2e5d1']] # to color the headings of each column \n",
        "    \n",
        "    # we create a table with the data_matrix\n",
        "    table = ff.create_table(data_matrix, index=True, colorscale=colorscale)\n",
        "    # plot it with plotly\n",
        "    plotly.offline.iplot(table, filename='simple_table')\n",
        "    \n",
        "    # devide whole figure space into 25 * 1:10 grids\n",
        "    gs = gridspec.GridSpec(25, 15)\n",
        "    fig = plt.figure(figsize=(25,5))\n",
        "    \n",
        "    # in first 25*10 grids we plot heatmap\n",
        "    ax1 = plt.subplot(gs[:, :-5])\n",
        "    # ploting the heap map based on the pairwise distances\n",
        "    ax1 = sns.heatmap(np.round(s1_s2_dist,6), annot=True)\n",
        "    # set the x axis labels as recommended apparels title\n",
        "    ax1.set_xticklabels(sentance2.split())\n",
        "    # set the y axis labels as input apparels title\n",
        "    ax1.set_yticklabels(sentance1.split())\n",
        "    # set title as recommended apparels title\n",
        "    ax1.set_title(sentance2)\n",
        "\n",
        "    # in last 25 * 10:15 grids we display image\n",
        "    ax2 = plt.subplot(gs[:, 10:16])\n",
        "    # we dont display grid lins and axis labels to images\n",
        "    ax2.grid(False)\n",
        "    ax2.set_xticks([])\n",
        "    ax2.set_yticks([])\n",
        "    \n",
        "    # pass the url it display it\n",
        "    display_img(url, ax2, fig)\n",
        "    \n",
        "    plt.show()"
      ],
      "execution_count": 0,
      "outputs": []
    },
    {
      "cell_type": "code",
      "metadata": {
        "id": "AUcnFrqThtaK",
        "colab_type": "code",
        "colab": {}
      },
      "source": [
        "# vocab = stores all the words that are there in google w2v model\n",
        "# vocab = model.wv.vocab.keys() # if you are using Google word2Vec\n",
        "\n",
        "vocab = model.keys()\n",
        "# this function will add the vectors of each word and returns the avg vector of given sentance\n",
        "def build_avg_vec(sentence, num_features, doc_id, m_name):\n",
        "    # sentace: its title of the apparel\n",
        "    # num_features: the lenght of word2vec vector, its values = 300\n",
        "    # m_name: model information it will take two values\n",
        "        # if  m_name == 'avg', we will append the model[i], w2v representation of word i\n",
        "        # if m_name == 'weighted', we will multiply each w2v[word] with the idf(word)\n",
        "\n",
        "    featureVec = np.zeros((num_features,), dtype=\"float32\")\n",
        "    # we will intialize a vector of size 300 with all zeros\n",
        "    # we add each word2vec(wordi) to this fetureVec\n",
        "    nwords = 0\n",
        "    \n",
        "    for word in sentence.split():\n",
        "        nwords += 1\n",
        "        if word in vocab:\n",
        "            if m_name == 'weighted' and word in  idf_title_vectorizer.vocabulary_:\n",
        "                featureVec = np.add(featureVec, idf_title_features[doc_id, idf_title_vectorizer.vocabulary_[word]] * model[word])\n",
        "            elif m_name == 'avg':\n",
        "                featureVec = np.add(featureVec, model[word])\n",
        "    if(nwords>0):\n",
        "        featureVec = np.divide(featureVec, nwords)\n",
        "    # returns the avg vector of given sentance, its of shape (1, 300)\n",
        "    return featureVec"
      ],
      "execution_count": 0,
      "outputs": []
    },
    {
      "cell_type": "code",
      "metadata": {
        "id": "1smZJCl3jbQ1",
        "colab_type": "code",
        "colab": {}
      },
      "source": [
        "doc_id = 0\n",
        "w2v_title = []\n",
        "#w2v_title['column_name'].astype(str)\n",
        "# for every title we build a avg vector representation\n",
        "for i in data['title']:\n",
        "    w2v_title.append(build_avg_vec(i, 300, doc_id,'avg'))\n",
        "    doc_id += 1\n",
        "\n",
        "# w2v_title = np.array(# number of doc in courpus * 300), each row corresponds to a doc \n",
        "w2v_title = np.array(w2v_title)\n"
      ],
      "execution_count": 0,
      "outputs": []
    },
    {
      "cell_type": "code",
      "metadata": {
        "id": "DGta7MDFpWa5",
        "colab_type": "code",
        "colab": {}
      },
      "source": [
        "doc_id = 0\n",
        "w2v_title_weight = []\n",
        "# for every title we build a weighted vector representation\n",
        "for i in data['title']:\n",
        "    w2v_title_weight.append(build_avg_vec(i, 300, doc_id,'weighted'))\n",
        "    doc_id += 1\n",
        "# w2v_title = np.array(# number of doc in courpus * 300), each row corresponds to a doc \n",
        "w2v_title_weight = np.array(w2v_title_weight)"
      ],
      "execution_count": 0,
      "outputs": []
    },
    {
      "cell_type": "code",
      "metadata": {
        "id": "hiCs0b6xjxOy",
        "colab_type": "code",
        "colab": {}
      },
      "source": [
        "#Display an image\n",
        "def display_img(url,ax,fig):\n",
        "    # we get the url of the apparel and download it\n",
        "    response = requests.get(url)\n",
        "    img = Image.open(BytesIO(response.content))\n",
        "    # we will display it in notebook \n",
        "    plt.imshow(img)"
      ],
      "execution_count": 0,
      "outputs": []
    },
    {
      "cell_type": "code",
      "metadata": {
        "id": "h1pPEbMJoRAV",
        "colab_type": "code",
        "colab": {}
      },
      "source": [
        "# some of the brand values are empty. \n",
        "# Need to replace Null with string \"NULL\"\n",
        "data['brand'].fillna(value=\"Not given\", inplace=True )\n",
        "\n",
        "# replace spaces with hypen\n",
        "brands = [x.replace(\" \", \"-\") for x in data['brand'].values]\n",
        "types = [x.replace(\" \", \"-\") for x in data['product_type_name'].values]\n",
        "colors = [x.replace(\" \", \"-\") for x in data['color'].values]\n",
        "\n",
        "brand_vectorizer = CountVectorizer()\n",
        "brand_features = brand_vectorizer.fit_transform(brands)\n",
        "\n",
        "type_vectorizer = CountVectorizer()\n",
        "type_features = type_vectorizer.fit_transform(types)\n",
        "\n",
        "color_vectorizer = CountVectorizer()\n",
        "color_features = color_vectorizer.fit_transform(colors)\n",
        "\n",
        "extra_features = hstack((brand_features, type_features, color_features)).tocsr()"
      ],
      "execution_count": 0,
      "outputs": []
    },
    {
      "cell_type": "code",
      "metadata": {
        "id": "1MbXNxHgoF6_",
        "colab_type": "code",
        "outputId": "a917f6c9-f9f6-4bea-9210-25fe2e5e1520",
        "colab": {
          "base_uri": "https://localhost:8080/",
          "height": 34
        }
      },
      "source": [
        "\n",
        "from keras.preprocessing.image import ImageDataGenerator\n",
        "from keras.models import Sequential\n",
        "from keras.layers import Dropout, Flatten, Dense\n",
        "from keras import applications"
      ],
      "execution_count": 0,
      "outputs": [
        {
          "output_type": "stream",
          "text": [
            "Using TensorFlow backend.\n"
          ],
          "name": "stderr"
        }
      ]
    },
    {
      "cell_type": "code",
      "metadata": {
        "id": "JbLFEALWoP90",
        "colab_type": "code",
        "colab": {}
      },
      "source": [
        "import numpy as np\n",
        "from keras.preprocessing.image import ImageDataGenerator\n",
        "from keras.models import Sequential\n",
        "from keras.layers import Dropout, Flatten, Dense\n",
        "from keras import applications\n",
        "from sklearn.metrics import pairwise_distances\n",
        "import matplotlib.pyplot as plt\n",
        "import requests\n",
        "from PIL import Image\n",
        "import pandas as pd\n",
        "import pickle"
      ],
      "execution_count": 0,
      "outputs": []
    },
    {
      "cell_type": "code",
      "metadata": {
        "id": "dZk1g32Xod2K",
        "colab_type": "code",
        "colab": {}
      },
      "source": [
        "DATA_PATH = \"/content/drive/My Drive/Asgn/Apparel\"\n",
        "#bottleneck_features_train = np.load('16k_data_cnn_features.npy')\n",
        "bottleneck_features_train = np.load(open(DATA_PATH+'/16k_data_cnn_features.npy','rb'))\n",
        "asins = np.load(open(DATA_PATH+'/16k_data_cnn_feature_asins.npy', 'rb'))\n",
        "asins = list(asins)\n",
        "infile = open(DATA_PATH+'/16k_apperal_data_preprocessed','rb')\n",
        "data = pickle.load(infile)\n",
        "df_asins = list(data['asin'])"
      ],
      "execution_count": 0,
      "outputs": []
    },
    {
      "cell_type": "code",
      "metadata": {
        "id": "ITMai_O8yY5X",
        "colab_type": "code",
        "outputId": "f28716ee-ec3a-46c9-9dd1-c71ef1c3bd06",
        "colab": {
          "base_uri": "https://localhost:8080/",
          "height": 2921
        }
      },
      "source": [
        "from IPython.display import display, Image, SVG, Math, YouTubeVideo\n",
        "\n",
        "def get_similar_products_cnn(doc_id, weit, wbrnd, wclr, wimg, nr):\n",
        "    doc_id = asins.index(df_asins[doc_id])\n",
        "    \n",
        "    idf_w2v_dist  = pairwise_distances(w2v_title_weight, w2v_title_weight[doc_id].reshape(1,-1))\n",
        "    brand_dist = pairwise_distances(brand_features, brand_features[doc_id])\n",
        "    color_dist = pairwise_distances(color_features, color_features[doc_id])\n",
        "    bottleneck_features_dist = pairwise_distances(bottleneck_features_train, bottleneck_features_train[doc_id].reshape(1,-1))\n",
        "    \n",
        "    pairwise_dist = (weit * idf_w2v_dist +  wbrnd * brand_dist + wclr * color_dist + wimg * bottleneck_features_dist)/float(weit + wbrnd + wclr + wimg)\n",
        "\n",
        "    indices = np.argsort(pairwise_dist.flatten())[0:nr]\n",
        "    df_indices = list(data.index[indices])\n",
        "    pdists  = np.sort(pairwise_dist.flatten())[0:nr]\n",
        "\n",
        "    for i in range(len(indices)):\n",
        "        rows = data[['medium_image_url','title']].loc[data['asin']==asins[indices[i]]]\n",
        "        for indx, row in rows.iterrows():\n",
        "            display(Image(url=row['medium_image_url'], embed=True))\n",
        "            print('ASIN :',data['asin'].loc[df_indices[i]])\n",
        "            print('Product Title: ', row['title'])\n",
        "            print('Brand :',data['brand'].loc[df_indices[i]])\n",
        "            print('Product title:',data['title'].loc[df_indices[i]])\n",
        "            print('Product Type :',data['product_type_name'].loc[df_indices[i]])\n",
        "            print('Euclidean Distance :', pdists[i])\n",
        "           \n",
        "\n",
        "get_similar_products_cnn(12562,50,30,20,100,11)"
      ],
      "execution_count": 0,
      "outputs": [
        {
          "output_type": "display_data",
          "data": {
            "image/jpeg": "[encoded data removed]",
            "text/plain": [
              "<IPython.core.display.Image object>"
            ]
          },
          "metadata": {
            "tags": []
          }
        },
        {
          "output_type": "stream",
          "text": [
            "ASIN : B01G376G88\n",
            "Product Title:  im huckleberry doc holliday 34sleeve raglan long sleeve \n",
            "Brand : J.Crew\n",
            "Product title: j crew sheer beaded coverup sz style a0370 ivory new \n",
            "Product Type : SHIRT\n",
            "Euclidean Distance : 8.231806347680503e-11\n"
          ],
          "name": "stdout"
        },
        {
          "output_type": "display_data",
          "data": {
            "image/jpeg": "[encoded data removed]",
            "text/plain": [
              "<IPython.core.display.Image object>"
            ]
          },
          "metadata": {
            "tags": []
          }
        },
        {
          "output_type": "stream",
          "text": [
            "ASIN : B071S2VKT5\n",
            "Product Title:  alfani deep womens large tunic mesh asymmetric blouse black l \n",
            "Brand : J.Crew\n",
            "Product title: j crew factory sheer dotted split neck blouse \n",
            "Product Type : SWEATER\n",
            "Euclidean Distance : 0.1414213562373095\n"
          ],
          "name": "stdout"
        },
        {
          "output_type": "display_data",
          "data": {
            "image/jpeg": "[encoded data removed]",
            "text/plain": [
              "<IPython.core.display.Image object>"
            ]
          },
          "metadata": {
            "tags": []
          }
        },
        {
          "output_type": "stream",
          "text": [
            "ASIN : B01J6M8C48\n",
            "Product Title:  pardon french shortsleeve womens crew tee \n",
            "Brand : J.Crew\n",
            "Product title: j crew denim vest calyer wash \n",
            "Product Type : SHIRT\n",
            "Euclidean Distance : 0.1414213562373095\n"
          ],
          "name": "stdout"
        },
        {
          "output_type": "display_data",
          "data": {
            "image/jpeg": "[encoded data removed]",
            "text/plain": [
              "<IPython.core.display.Image object>"
            ]
          },
          "metadata": {
            "tags": []
          }
        },
        {
          "output_type": "stream",
          "text": [
            "ASIN : B06X1CKXFM\n",
            "Product Title:  marc marc jacobs womens ruched scoop neck blouse black xs \n",
            "Brand : J.Crew\n",
            "Product title: jcrew perfect shirt foil dot navy \n",
            "Product Type : SHIRT\n",
            "Euclidean Distance : 0.1414213562373095\n"
          ],
          "name": "stdout"
        },
        {
          "output_type": "display_data",
          "data": {
            "image/jpeg": "[encoded data removed]",
            "text/plain": [
              "<IPython.core.display.Image object>"
            ]
          },
          "metadata": {
            "tags": []
          }
        },
        {
          "output_type": "stream",
          "text": [
            "ASIN : B01LW7OWOX\n",
            "Product Title:  toogoor women spring autumn sexy lace short tops tshirt neck long sleeve bandage cropped short tshirtswhitesus4uk8 \n",
            "Brand : J.Crew\n",
            "Product title: j crew collection purple jeweled silk tank top sample one kind size 2 \n",
            "Product Type : SHIRT\n",
            "Euclidean Distance : 0.1414213562373095\n"
          ],
          "name": "stdout"
        },
        {
          "output_type": "display_data",
          "data": {
            "image/jpeg": "[encoded data removed]",
            "text/plain": [
              "<IPython.core.display.Image object>"
            ]
          },
          "metadata": {
            "tags": []
          }
        },
        {
          "output_type": "stream",
          "text": [
            "ASIN : B01E13D2GU\n",
            "Product Title:  ella moon womens solana long sleeve tie neck cold shoulder blouse navy plumier medium \n",
            "Brand : J.Crew\n",
            "Product title: play comme des garcons j crew big heart shirt size \n",
            "Product Type : SHIRT\n",
            "Euclidean Distance : 0.1414213562373095\n"
          ],
          "name": "stdout"
        },
        {
          "output_type": "display_data",
          "data": {
            "image/jpeg": "[encoded data removed]",
            "text/plain": [
              "<IPython.core.display.Image object>"
            ]
          },
          "metadata": {
            "tags": []
          }
        },
        {
          "output_type": "stream",
          "text": [
            "ASIN : B01GYC3W2U\n",
            "Product Title:  banana republic womens pleatedunderlay tank valliant poppy red small \n",
            "Brand : J.Crew\n",
            "Product title: j crew play comme des garcons gold heart tshirt size style e3054 white new \n",
            "Product Type : SHIRT\n",
            "Euclidean Distance : 0.1414213562373095\n"
          ],
          "name": "stdout"
        },
        {
          "output_type": "display_data",
          "data": {
            "image/jpeg": "[encoded data removed]",
            "text/plain": [
              "<IPython.core.display.Image object>"
            ]
          },
          "metadata": {
            "tags": []
          }
        },
        {
          "output_type": "stream",
          "text": [
            "ASIN : B01LZDRMJ6\n",
            "Product Title:  oddi womens short sleeve ruffle top taupe cotton shirts small \n",
            "Brand : J.Crew\n",
            "Product title: jcrew petite collarless buttonup shirt indigo 10 \n",
            "Product Type : SHIRT\n",
            "Euclidean Distance : 0.1414213562373095\n"
          ],
          "name": "stdout"
        },
        {
          "output_type": "display_data",
          "data": {
            "image/jpeg": "[encoded data removed]",
            "text/plain": [
              "<IPython.core.display.Image object>"
            ]
          },
          "metadata": {
            "tags": []
          }
        },
        {
          "output_type": "stream",
          "text": [
            "ASIN : B01MAT31YT\n",
            "Product Title:  self esteem layeredlook tank top suede vest size \n",
            "Brand : J.Crew\n",
            "Product title: j crew vneck bandsleeve shell \n",
            "Product Type : SHIRT\n",
            "Euclidean Distance : 0.1414213562373095\n"
          ],
          "name": "stdout"
        },
        {
          "output_type": "display_data",
          "data": {
            "image/jpeg": "[encoded data removed]",
            "text/plain": [
              "<IPython.core.display.Image object>"
            ]
          },
          "metadata": {
            "tags": []
          }
        },
        {
          "output_type": "stream",
          "text": [
            "ASIN : B01GTF67UG\n",
            "Product Title:  vince camuto womens small asymmetrical hem blouse pink \n",
            "Brand : J.Crew\n",
            "Product title: j crew liberty pajama top wiltshire floral size xss style 26440 def \n",
            "Product Type : SHIRT\n",
            "Euclidean Distance : 0.1732050807568877\n"
          ],
          "name": "stdout"
        },
        {
          "output_type": "display_data",
          "data": {
            "image/jpeg": "[encoded data removed]",
            "text/plain": [
              "<IPython.core.display.Image object>"
            ]
          },
          "metadata": {
            "tags": []
          }
        },
        {
          "output_type": "stream",
          "text": [
            "ASIN : B073VVS6DN\n",
            "Product Title:  efaster women hemp rope chain ankle bracelet barefoot sandal beach foot jewelry \n",
            "Brand : J.Crew\n",
            "Product title: j crew womens layered drapey silk hem tank top blouse dusty begonia small \n",
            "Product Type : SHIRT\n",
            "Euclidean Distance : 0.1732050807568877\n"
          ],
          "name": "stdout"
        }
      ]
    },
    {
      "cell_type": "code",
      "metadata": {
        "id": "x94T6acS8xUP",
        "colab_type": "code",
        "outputId": "d740c3cd-2766-4f73-df4c-d72a332843d7",
        "colab": {
          "base_uri": "https://localhost:8080/",
          "height": 2921
        }
      },
      "source": [
        "get_similar_products_cnn(12562,50,30,30,200,11)"
      ],
      "execution_count": 0,
      "outputs": [
        {
          "output_type": "display_data",
          "data": {
            "image/jpeg": "[encoded data removed]",
            "text/plain": [
              "<IPython.core.display.Image object>"
            ]
          },
          "metadata": {
            "tags": []
          }
        },
        {
          "output_type": "stream",
          "text": [
            "ASIN : B01G376G88\n",
            "Product Title:  im huckleberry doc holliday 34sleeve raglan long sleeve \n",
            "Brand : J.Crew\n",
            "Product title: j crew sheer beaded coverup sz style a0370 ivory new \n",
            "Product Type : SHIRT\n",
            "Euclidean Distance : 5.3108428049551636e-11\n"
          ],
          "name": "stdout"
        },
        {
          "output_type": "display_data",
          "data": {
            "image/jpeg": "[encoded data removed]",
            "text/plain": [
              "<IPython.core.display.Image object>"
            ]
          },
          "metadata": {
            "tags": []
          }
        },
        {
          "output_type": "stream",
          "text": [
            "ASIN : B0741BMD7S\n",
            "Product Title:  alexander wang orange illusion layer tank top 4 \n",
            "Brand : Fylo\n",
            "Product title: fylo womens size large lightweight blouse ivory \n",
            "Product Type : SHIRT\n",
            "Euclidean Distance : 0.13685937700384793\n"
          ],
          "name": "stdout"
        },
        {
          "output_type": "display_data",
          "data": {
            "image/jpeg": "[encoded data removed]",
            "text/plain": [
              "<IPython.core.display.Image object>"
            ]
          },
          "metadata": {
            "tags": []
          }
        },
        {
          "output_type": "stream",
          "text": [
            "ASIN : B017VEE8H8\n",
            "Product Title:  nydj womens henley blouse plus size red pleated back2x \n",
            "Brand : KAIA\n",
            "Product title: agnes orinda womens plus size zebra print asymmetric hem scoop neck top ivory 1x \n",
            "Product Type : SHIRT\n",
            "Euclidean Distance : 0.13685937700384793\n"
          ],
          "name": "stdout"
        },
        {
          "output_type": "display_data",
          "data": {
            "image/jpeg": "[encoded data removed]",
            "text/plain": [
              "<IPython.core.display.Image object>"
            ]
          },
          "metadata": {
            "tags": []
          }
        },
        {
          "output_type": "stream",
          "text": [
            "ASIN : B071LFJ1DN\n",
            "Product Title:  h bordeaux womens plus dolman sleeve ribbed knit top black 1x \n",
            "Brand : Soprano\n",
            "Product title: soprano plus size sleeveless swing tank top size 2x \n",
            "Product Type : SHIRT\n",
            "Euclidean Distance : 0.13685937700384793\n"
          ],
          "name": "stdout"
        },
        {
          "output_type": "display_data",
          "data": {
            "image/jpeg": "[encoded data removed]",
            "text/plain": [
              "<IPython.core.display.Image object>"
            ]
          },
          "metadata": {
            "tags": []
          }
        },
        {
          "output_type": "stream",
          "text": [
            "ASIN : B00M7DFH9C\n",
            "Product Title:  mamisari love yoga crop top womens workout running active shirt tshirt tee \n",
            "Brand : TUXE\n",
            "Product title: tuxe rookie bodysuit b1421ixs \n",
            "Product Type : SHIRT\n",
            "Euclidean Distance : 0.13685937700384793\n"
          ],
          "name": "stdout"
        },
        {
          "output_type": "display_data",
          "data": {
            "image/jpeg": "[encoded data removed]",
            "text/plain": [
              "<IPython.core.display.Image object>"
            ]
          },
          "metadata": {
            "tags": []
          }
        },
        {
          "output_type": "stream",
          "text": [
            "ASIN : B01CE40WRA\n",
            "Product Title:  mossimo womens high neck long sleeve tunic medium blue \n",
            "Brand : Marolaya\n",
            "Product title: marolaya womens feather print caftan poncho tunic sexy tassel beach cover \n",
            "Product Type : SHIRT\n",
            "Euclidean Distance : 0.13685937700384793\n"
          ],
          "name": "stdout"
        },
        {
          "output_type": "display_data",
          "data": {
            "image/jpeg": "[encoded data removed]",
            "text/plain": [
              "<IPython.core.display.Image object>"
            ]
          },
          "metadata": {
            "tags": []
          }
        },
        {
          "output_type": "stream",
          "text": [
            "ASIN : B01MAT31YT\n",
            "Product Title:  self esteem layeredlook tank top suede vest size \n",
            "Brand : J.Crew\n",
            "Product title: j crew vneck bandsleeve shell \n",
            "Product Type : SHIRT\n",
            "Euclidean Distance : 0.13685937700384793\n"
          ],
          "name": "stdout"
        },
        {
          "output_type": "display_data",
          "data": {
            "image/jpeg": "[encoded data removed]",
            "text/plain": [
              "<IPython.core.display.Image object>"
            ]
          },
          "metadata": {
            "tags": []
          }
        },
        {
          "output_type": "stream",
          "text": [
            "ASIN : B01LW7OWOX\n",
            "Product Title:  toogoor women spring autumn sexy lace short tops tshirt neck long sleeve bandage cropped short tshirtswhitesus4uk8 \n",
            "Brand : J.Crew\n",
            "Product title: j crew collection purple jeweled silk tank top sample one kind size 2 \n",
            "Product Type : SHIRT\n",
            "Euclidean Distance : 0.13685937700384793\n"
          ],
          "name": "stdout"
        },
        {
          "output_type": "display_data",
          "data": {
            "image/jpeg": "[encoded data removed]",
            "text/plain": [
              "<IPython.core.display.Image object>"
            ]
          },
          "metadata": {
            "tags": []
          }
        },
        {
          "output_type": "stream",
          "text": [
            "ASIN : B072JZD68D\n",
            "Product Title:  nene nene leakes kimonostyle cardigan 476048 antique moss \n",
            "Brand : Grace\n",
            "Product title: grace womens royal ivory blouse 34 sleeve flow large \n",
            "Product Type : SHIRT\n",
            "Euclidean Distance : 0.13685937700384793\n"
          ],
          "name": "stdout"
        },
        {
          "output_type": "display_data",
          "data": {
            "image/jpeg": "[encoded data removed]",
            "text/plain": [
              "<IPython.core.display.Image object>"
            ]
          },
          "metadata": {
            "tags": []
          }
        },
        {
          "output_type": "stream",
          "text": [
            "ASIN : B00LVRCNLU\n",
            "Product Title:  worthington layered woven tank top petite size pxl \n",
            "Brand : P.J. Salvage\n",
            "Product title: pj salvage womens army top rarmls2 ivory large \n",
            "Product Type : SLEEPWEAR\n",
            "Euclidean Distance : 0.13685937700384793\n"
          ],
          "name": "stdout"
        },
        {
          "output_type": "display_data",
          "data": {
            "image/jpeg": "[encoded data removed]",
            "text/plain": [
              "<IPython.core.display.Image object>"
            ]
          },
          "metadata": {
            "tags": []
          }
        },
        {
          "output_type": "stream",
          "text": [
            "ASIN : B071FYSXJJ\n",
            "Product Title:  pizzazz performance wear 5700ss pur yl 5700ss youth superstar panel top keyhole  purple  youth large \n",
            "Brand : ARAZA\n",
            "Product title: araza women button sheer shirt plus size 2x white long tab sleeves collar neck pockets \n",
            "Product Type : SHIRT\n",
            "Euclidean Distance : 0.13685937700384793\n"
          ],
          "name": "stdout"
        }
      ]
    },
    {
      "cell_type": "markdown",
      "metadata": {
        "id": "KSNQbRHj-3Lh",
        "colab_type": "text"
      },
      "source": [
        "### **DIfferent combination of Weights to each feature**"
      ]
    },
    {
      "cell_type": "code",
      "metadata": {
        "id": "DgU-shhP85u8",
        "colab_type": "code",
        "outputId": "38f2fb3c-cbea-4f28-b0f0-86f6d5813e22",
        "colab": {
          "base_uri": "https://localhost:8080/",
          "height": 2881
        }
      },
      "source": [
        "get_similar_products_cnn(12562,40,30,30,250,11)"
      ],
      "execution_count": 0,
      "outputs": [
        {
          "output_type": "display_data",
          "data": {
            "image/jpeg": "[encoded data removed]",
            "text/plain": [
              "<IPython.core.display.Image object>"
            ]
          },
          "metadata": {
            "tags": []
          }
        },
        {
          "output_type": "stream",
          "text": [
            "ASIN : B01G376G88\n",
            "Product Title:  im huckleberry doc holliday 34sleeve raglan long sleeve \n",
            "Brand : J.Crew\n",
            "Product title: j crew sheer beaded coverup sz style a0370 ivory new \n",
            "Product Type : SHIRT\n",
            "Euclidean Distance : 3.7631114732253734e-11\n"
          ],
          "name": "stdout"
        },
        {
          "output_type": "display_data",
          "data": {
            "image/jpeg": "[encoded data removed]",
            "text/plain": [
              "<IPython.core.display.Image object>"
            ]
          },
          "metadata": {
            "tags": []
          }
        },
        {
          "output_type": "stream",
          "text": [
            "ASIN : B00LVRCNLU\n",
            "Product Title:  worthington layered woven tank top petite size pxl \n",
            "Brand : P.J. Salvage\n",
            "Product title: pj salvage womens army top rarmls2 ivory large \n",
            "Product Type : SLEEPWEAR\n",
            "Euclidean Distance : 0.12121830534626529\n"
          ],
          "name": "stdout"
        },
        {
          "output_type": "display_data",
          "data": {
            "image/jpeg": "[encoded data removed]",
            "text/plain": [
              "<IPython.core.display.Image object>"
            ]
          },
          "metadata": {
            "tags": []
          }
        },
        {
          "output_type": "stream",
          "text": [
            "ASIN : B01N55I9ZR\n",
            "Product Title:  foi indian vintage cotton top women ehs hippie blusa dress ethnic blouse \n",
            "Brand : XOXO\n",
            "Product title: xoxo womens ls wrap front cardigan ivory small \n",
            "Product Type : SHIRT\n",
            "Euclidean Distance : 0.12121830534626529\n"
          ],
          "name": "stdout"
        },
        {
          "output_type": "display_data",
          "data": {
            "image/jpeg": "[encoded data removed]",
            "text/plain": [
              "<IPython.core.display.Image object>"
            ]
          },
          "metadata": {
            "tags": []
          }
        },
        {
          "output_type": "stream",
          "text": [
            "ASIN : B01CE40WRA\n",
            "Product Title:  mossimo womens high neck long sleeve tunic medium blue \n",
            "Brand : Marolaya\n",
            "Product title: marolaya womens feather print caftan poncho tunic sexy tassel beach cover \n",
            "Product Type : SHIRT\n",
            "Euclidean Distance : 0.12121830534626529\n"
          ],
          "name": "stdout"
        },
        {
          "output_type": "display_data",
          "data": {
            "image/jpeg": "[encoded data removed]",
            "text/plain": [
              "<IPython.core.display.Image object>"
            ]
          },
          "metadata": {
            "tags": []
          }
        },
        {
          "output_type": "stream",
          "text": [
            "ASIN : B0733R2CJK\n",
            "Product Title:  blu pepper womens crochet 34 length sleeve top orange medium \n",
            "Brand : BLVD\n",
            "Product title: blvd womens graphic tshirt l \n",
            "Product Type : SHIRT\n",
            "Euclidean Distance : 0.12121830534626529\n"
          ],
          "name": "stdout"
        },
        {
          "output_type": "display_data",
          "data": {
            "image/jpeg": "[encoded data removed]",
            "text/plain": [
              "<IPython.core.display.Image object>"
            ]
          },
          "metadata": {
            "tags": []
          }
        },
        {
          "output_type": "stream",
          "text": [
            "ASIN : B06X1CKXFM\n",
            "Product Title:  marc marc jacobs womens ruched scoop neck blouse black xs \n",
            "Brand : J.Crew\n",
            "Product title: jcrew perfect shirt foil dot navy \n",
            "Product Type : SHIRT\n",
            "Euclidean Distance : 0.12121830534626529\n"
          ],
          "name": "stdout"
        },
        {
          "output_type": "display_data",
          "data": {
            "image/jpeg": "[encoded data removed]",
            "text/plain": [
              "<IPython.core.display.Image object>"
            ]
          },
          "metadata": {
            "tags": []
          }
        },
        {
          "output_type": "stream",
          "text": [
            "ASIN : B071FYSXJJ\n",
            "Product Title:  pizzazz performance wear 5700ss pur yl 5700ss youth superstar panel top keyhole  purple  youth large \n",
            "Brand : ARAZA\n",
            "Product title: araza women button sheer shirt plus size 2x white long tab sleeves collar neck pockets \n",
            "Product Type : SHIRT\n",
            "Euclidean Distance : 0.12121830534626529\n"
          ],
          "name": "stdout"
        },
        {
          "output_type": "display_data",
          "data": {
            "image/jpeg": "[encoded data removed]",
            "text/plain": [
              "<IPython.core.display.Image object>"
            ]
          },
          "metadata": {
            "tags": []
          }
        },
        {
          "output_type": "stream",
          "text": [
            "ASIN : B01J6M8C48\n",
            "Product Title:  pardon french shortsleeve womens crew tee \n",
            "Brand : J.Crew\n",
            "Product title: j crew denim vest calyer wash \n",
            "Product Type : SHIRT\n",
            "Euclidean Distance : 0.12121830534626529\n"
          ],
          "name": "stdout"
        },
        {
          "output_type": "display_data",
          "data": {
            "image/jpeg": "[encoded data removed]",
            "text/plain": [
              "<IPython.core.display.Image object>"
            ]
          },
          "metadata": {
            "tags": []
          }
        },
        {
          "output_type": "stream",
          "text": [
            "ASIN : B01N6IOOLE\n",
            "Product Title:  futhure womens rock kasbah neck diy tank top \n",
            "Brand : Cleobella\n",
            "Product title: cleobella mila top ivory xs \n",
            "Product Type : SHIRT\n",
            "Euclidean Distance : 0.12121830534626529\n"
          ],
          "name": "stdout"
        },
        {
          "output_type": "display_data",
          "data": {
            "image/jpeg": "[encoded data removed]",
            "text/plain": [
              "<IPython.core.display.Image object>"
            ]
          },
          "metadata": {
            "tags": []
          }
        },
        {
          "output_type": "stream",
          "text": [
            "ASIN : B071S2VKT5\n",
            "Product Title:  alfani deep womens large tunic mesh asymmetric blouse black l \n",
            "Brand : J.Crew\n",
            "Product title: j crew factory sheer dotted split neck blouse \n",
            "Product Type : SWEATER\n",
            "Euclidean Distance : 0.12121830534626529\n"
          ],
          "name": "stdout"
        },
        {
          "output_type": "display_data",
          "data": {
            "image/jpeg": "[encoded data removed]",
            "text/plain": [
              "<IPython.core.display.Image object>"
            ]
          },
          "metadata": {
            "tags": []
          }
        },
        {
          "output_type": "stream",
          "text": [
            "ASIN : B0755DS1V6\n",
            "Product Title:  puma womens ferrari big shield tee rosso corsa tshirt xl \n",
            "Brand : WAYF\n",
            "Product title: wayf ivory ditzy gwen shoulder top medium \n",
            "Product Type : SHIRT\n",
            "Euclidean Distance : 0.12121830534626529\n"
          ],
          "name": "stdout"
        }
      ]
    },
    {
      "cell_type": "code",
      "metadata": {
        "id": "dcrXhfYO-psx",
        "colab_type": "code",
        "outputId": "36164e62-a3c5-4b96-e11d-286a57352a9c",
        "colab": {
          "base_uri": "https://localhost:8080/",
          "height": 2921
        }
      },
      "source": [
        "get_similar_products_cnn(12562,40,30,30,300,11)"
      ],
      "execution_count": 0,
      "outputs": [
        {
          "output_type": "display_data",
          "data": {
            "image/jpeg": "[encoded data removed]",
            "text/plain": [
              "<IPython.core.display.Image object>"
            ]
          },
          "metadata": {
            "tags": []
          }
        },
        {
          "output_type": "stream",
          "text": [
            "ASIN : B01G376G88\n",
            "Product Title:  im huckleberry doc holliday 34sleeve raglan long sleeve \n",
            "Brand : J.Crew\n",
            "Product title: j crew sheer beaded coverup sz style a0370 ivory new \n",
            "Product Type : SHIRT\n",
            "Euclidean Distance : 3.2927225390722017e-11\n"
          ],
          "name": "stdout"
        },
        {
          "output_type": "display_data",
          "data": {
            "image/jpeg": "[encoded data removed]",
            "text/plain": [
              "<IPython.core.display.Image object>"
            ]
          },
          "metadata": {
            "tags": []
          }
        },
        {
          "output_type": "stream",
          "text": [
            "ASIN : B0733R2CJK\n",
            "Product Title:  blu pepper womens crochet 34 length sleeve top orange medium \n",
            "Brand : BLVD\n",
            "Product title: blvd womens graphic tshirt l \n",
            "Product Type : SHIRT\n",
            "Euclidean Distance : 0.10606601717798213\n"
          ],
          "name": "stdout"
        },
        {
          "output_type": "display_data",
          "data": {
            "image/jpeg": "[encoded data removed]",
            "text/plain": [
              "<IPython.core.display.Image object>"
            ]
          },
          "metadata": {
            "tags": []
          }
        },
        {
          "output_type": "stream",
          "text": [
            "ASIN : B01N2QX096\n",
            "Product Title:  fellt diy print custom ct fletcher womens sexy top \n",
            "Brand : Nell\n",
            "Product title: nell womens langley top 0 white \n",
            "Product Type : SHIRT\n",
            "Euclidean Distance : 0.10606601717798213\n"
          ],
          "name": "stdout"
        },
        {
          "output_type": "display_data",
          "data": {
            "image/jpeg": "[encoded data removed]",
            "text/plain": [
              "<IPython.core.display.Image object>"
            ]
          },
          "metadata": {
            "tags": []
          }
        },
        {
          "output_type": "stream",
          "text": [
            "ASIN : B00M7DFH9C\n",
            "Product Title:  mamisari love yoga crop top womens workout running active shirt tshirt tee \n",
            "Brand : TUXE\n",
            "Product title: tuxe rookie bodysuit b1421ixs \n",
            "Product Type : SHIRT\n",
            "Euclidean Distance : 0.10606601717798213\n"
          ],
          "name": "stdout"
        },
        {
          "output_type": "display_data",
          "data": {
            "image/jpeg": "[encoded data removed]",
            "text/plain": [
              "<IPython.core.display.Image object>"
            ]
          },
          "metadata": {
            "tags": []
          }
        },
        {
          "output_type": "stream",
          "text": [
            "ASIN : B0755DS1V6\n",
            "Product Title:  puma womens ferrari big shield tee rosso corsa tshirt xl \n",
            "Brand : WAYF\n",
            "Product title: wayf ivory ditzy gwen shoulder top medium \n",
            "Product Type : SHIRT\n",
            "Euclidean Distance : 0.10606601717798213\n"
          ],
          "name": "stdout"
        },
        {
          "output_type": "display_data",
          "data": {
            "image/jpeg": "[encoded data removed]",
            "text/plain": [
              "<IPython.core.display.Image object>"
            ]
          },
          "metadata": {
            "tags": []
          }
        },
        {
          "output_type": "stream",
          "text": [
            "ASIN : B071LFJ1DN\n",
            "Product Title:  h bordeaux womens plus dolman sleeve ribbed knit top black 1x \n",
            "Brand : Soprano\n",
            "Product title: soprano plus size sleeveless swing tank top size 2x \n",
            "Product Type : SHIRT\n",
            "Euclidean Distance : 0.10606601717798213\n"
          ],
          "name": "stdout"
        },
        {
          "output_type": "display_data",
          "data": {
            "image/jpeg": "[encoded data removed]",
            "text/plain": [
              "<IPython.core.display.Image object>"
            ]
          },
          "metadata": {
            "tags": []
          }
        },
        {
          "output_type": "stream",
          "text": [
            "ASIN : B01LW7OWOX\n",
            "Product Title:  toogoor women spring autumn sexy lace short tops tshirt neck long sleeve bandage cropped short tshirtswhitesus4uk8 \n",
            "Brand : J.Crew\n",
            "Product title: j crew collection purple jeweled silk tank top sample one kind size 2 \n",
            "Product Type : SHIRT\n",
            "Euclidean Distance : 0.10606601717798213\n"
          ],
          "name": "stdout"
        },
        {
          "output_type": "display_data",
          "data": {
            "image/jpeg": "[encoded data removed]",
            "text/plain": [
              "<IPython.core.display.Image object>"
            ]
          },
          "metadata": {
            "tags": []
          }
        },
        {
          "output_type": "stream",
          "text": [
            "ASIN : B01LZDRMJ6\n",
            "Product Title:  oddi womens short sleeve ruffle top taupe cotton shirts small \n",
            "Brand : J.Crew\n",
            "Product title: jcrew petite collarless buttonup shirt indigo 10 \n",
            "Product Type : SHIRT\n",
            "Euclidean Distance : 0.10606601717798213\n"
          ],
          "name": "stdout"
        },
        {
          "output_type": "display_data",
          "data": {
            "image/jpeg": "[encoded data removed]",
            "text/plain": [
              "<IPython.core.display.Image object>"
            ]
          },
          "metadata": {
            "tags": []
          }
        },
        {
          "output_type": "stream",
          "text": [
            "ASIN : B01GYC3W2U\n",
            "Product Title:  banana republic womens pleatedunderlay tank valliant poppy red small \n",
            "Brand : J.Crew\n",
            "Product title: j crew play comme des garcons gold heart tshirt size style e3054 white new \n",
            "Product Type : SHIRT\n",
            "Euclidean Distance : 0.10606601717798213\n"
          ],
          "name": "stdout"
        },
        {
          "output_type": "display_data",
          "data": {
            "image/jpeg": "[encoded data removed]",
            "text/plain": [
              "<IPython.core.display.Image object>"
            ]
          },
          "metadata": {
            "tags": []
          }
        },
        {
          "output_type": "stream",
          "text": [
            "ASIN : B074JK4QJ8\n",
            "Product Title:  acquaa womens long sleeve stripe pocket fashion tshirt picture \n",
            "Brand : Fylo\n",
            "Product title: fylo dress casual career shirts women variety styles small ivory \n",
            "Product Type : SHIRT\n",
            "Euclidean Distance : 0.10606601717798213\n"
          ],
          "name": "stdout"
        },
        {
          "output_type": "display_data",
          "data": {
            "image/jpeg": "[encoded data removed]",
            "text/plain": [
              "<IPython.core.display.Image object>"
            ]
          },
          "metadata": {
            "tags": []
          }
        },
        {
          "output_type": "stream",
          "text": [
            "ASIN : B06X1CKXFM\n",
            "Product Title:  marc marc jacobs womens ruched scoop neck blouse black xs \n",
            "Brand : J.Crew\n",
            "Product title: jcrew perfect shirt foil dot navy \n",
            "Product Type : SHIRT\n",
            "Euclidean Distance : 0.10606601717798213\n"
          ],
          "name": "stdout"
        }
      ]
    },
    {
      "cell_type": "code",
      "metadata": {
        "id": "26VY0Z0__F-z",
        "colab_type": "code",
        "outputId": "a4cae7f6-d8c6-43b4-bb6e-7a76dd6ffebb",
        "colab": {
          "base_uri": "https://localhost:8080/",
          "height": 3145
        }
      },
      "source": [
        "get_similar_products_cnn(12562,40,30,40,400,12)"
      ],
      "execution_count": 0,
      "outputs": [
        {
          "output_type": "display_data",
          "data": {
            "image/jpeg": "[encoded data removed]",
            "text/plain": [
              "<IPython.core.display.Image object>"
            ]
          },
          "metadata": {
            "tags": []
          }
        },
        {
          "output_type": "stream",
          "text": [
            "ASIN : B01G376G88\n",
            "Product Title:  im huckleberry doc holliday 34sleeve raglan long sleeve \n",
            "Brand : J.Crew\n",
            "Product title: j crew sheer beaded coverup sz style a0370 ivory new \n",
            "Product Type : SHIRT\n",
            "Euclidean Distance : 2.582527481625256e-11\n"
          ],
          "name": "stdout"
        },
        {
          "output_type": "display_data",
          "data": {
            "image/jpeg": "[encoded data removed]",
            "text/plain": [
              "<IPython.core.display.Image object>"
            ]
          },
          "metadata": {
            "tags": []
          }
        },
        {
          "output_type": "stream",
          "text": [
            "ASIN : B01N6IOOLE\n",
            "Product Title:  futhure womens rock kasbah neck diy tank top \n",
            "Brand : Cleobella\n",
            "Product title: cleobella mila top ivory xs \n",
            "Product Type : SHIRT\n",
            "Euclidean Distance : 0.0831890330807703\n"
          ],
          "name": "stdout"
        },
        {
          "output_type": "display_data",
          "data": {
            "image/jpeg": "[encoded data removed]",
            "text/plain": [
              "<IPython.core.display.Image object>"
            ]
          },
          "metadata": {
            "tags": []
          }
        },
        {
          "output_type": "stream",
          "text": [
            "ASIN : B00MEVED3S\n",
            "Product Title:  district made womens modal blend relaxed v neck tee warm grey \n",
            "Brand : Yoco\n",
            "Product title: yoco womens crochet tiewaist top chiffon sleeves one size ivory \n",
            "Product Type : SHIRT\n",
            "Euclidean Distance : 0.0831890330807703\n"
          ],
          "name": "stdout"
        },
        {
          "output_type": "display_data",
          "data": {
            "image/jpeg": "[encoded data removed]",
            "text/plain": [
              "<IPython.core.display.Image object>"
            ]
          },
          "metadata": {
            "tags": []
          }
        },
        {
          "output_type": "stream",
          "text": [
            "ASIN : B0746553XF\n",
            "Product Title:  haute rogue womens offtheshoulder top blue \n",
            "Brand : DSQUARED2\n",
            "Product title: dsquared2 womens ivory 100 silk sleeveless blouse top us xs 38 \n",
            "Product Type : SHIRT\n",
            "Euclidean Distance : 0.0831890330807703\n"
          ],
          "name": "stdout"
        },
        {
          "output_type": "display_data",
          "data": {
            "image/jpeg": "[encoded data removed]",
            "text/plain": [
              "<IPython.core.display.Image object>"
            ]
          },
          "metadata": {
            "tags": []
          }
        },
        {
          "output_type": "stream",
          "text": [
            "ASIN : B071LFJ1DN\n",
            "Product Title:  h bordeaux womens plus dolman sleeve ribbed knit top black 1x \n",
            "Brand : Soprano\n",
            "Product title: soprano plus size sleeveless swing tank top size 2x \n",
            "Product Type : SHIRT\n",
            "Euclidean Distance : 0.0831890330807703\n"
          ],
          "name": "stdout"
        },
        {
          "output_type": "display_data",
          "data": {
            "image/jpeg": "[encoded data removed]",
            "text/plain": [
              "<IPython.core.display.Image object>"
            ]
          },
          "metadata": {
            "tags": []
          }
        },
        {
          "output_type": "stream",
          "text": [
            "ASIN : B00M7DFH9C\n",
            "Product Title:  mamisari love yoga crop top womens workout running active shirt tshirt tee \n",
            "Brand : TUXE\n",
            "Product title: tuxe rookie bodysuit b1421ixs \n",
            "Product Type : SHIRT\n",
            "Euclidean Distance : 0.0831890330807703\n"
          ],
          "name": "stdout"
        },
        {
          "output_type": "display_data",
          "data": {
            "image/jpeg": "[encoded data removed]",
            "text/plain": [
              "<IPython.core.display.Image object>"
            ]
          },
          "metadata": {
            "tags": []
          }
        },
        {
          "output_type": "stream",
          "text": [
            "ASIN : B017VEE8H8\n",
            "Product Title:  nydj womens henley blouse plus size red pleated back2x \n",
            "Brand : KAIA\n",
            "Product title: agnes orinda womens plus size zebra print asymmetric hem scoop neck top ivory 1x \n",
            "Product Type : SHIRT\n",
            "Euclidean Distance : 0.0831890330807703\n"
          ],
          "name": "stdout"
        },
        {
          "output_type": "display_data",
          "data": {
            "image/jpeg": "[encoded data removed]",
            "text/plain": [
              "<IPython.core.display.Image object>"
            ]
          },
          "metadata": {
            "tags": []
          }
        },
        {
          "output_type": "stream",
          "text": [
            "ASIN : B01HDN2QGC\n",
            "Product Title:  trina turk womens makoa sequin top xs \n",
            "Brand : MaxMara\n",
            "Product title: maxmara womens draped panel silk jersey combo nebula top sz l ivory 160429mm \n",
            "Product Type : SHIRT\n",
            "Euclidean Distance : 0.0831890330807703\n"
          ],
          "name": "stdout"
        },
        {
          "output_type": "display_data",
          "data": {
            "image/jpeg": "[encoded data removed]",
            "text/plain": [
              "<IPython.core.display.Image object>"
            ]
          },
          "metadata": {
            "tags": []
          }
        },
        {
          "output_type": "stream",
          "text": [
            "ASIN : B01N55I9ZR\n",
            "Product Title:  foi indian vintage cotton top women ehs hippie blusa dress ethnic blouse \n",
            "Brand : XOXO\n",
            "Product title: xoxo womens ls wrap front cardigan ivory small \n",
            "Product Type : SHIRT\n",
            "Euclidean Distance : 0.0831890330807703\n"
          ],
          "name": "stdout"
        },
        {
          "output_type": "display_data",
          "data": {
            "image/jpeg": "[encoded data removed]",
            "text/plain": [
              "<IPython.core.display.Image object>"
            ]
          },
          "metadata": {
            "tags": []
          }
        },
        {
          "output_type": "stream",
          "text": [
            "ASIN : B0755DS1V6\n",
            "Product Title:  puma womens ferrari big shield tee rosso corsa tshirt xl \n",
            "Brand : WAYF\n",
            "Product title: wayf ivory ditzy gwen shoulder top medium \n",
            "Product Type : SHIRT\n",
            "Euclidean Distance : 0.0831890330807703\n"
          ],
          "name": "stdout"
        },
        {
          "output_type": "display_data",
          "data": {
            "image/jpeg": "[encoded data removed]",
            "text/plain": [
              "<IPython.core.display.Image object>"
            ]
          },
          "metadata": {
            "tags": []
          }
        },
        {
          "output_type": "stream",
          "text": [
            "ASIN : B0741BMD7S\n",
            "Product Title:  alexander wang orange illusion layer tank top 4 \n",
            "Brand : Fylo\n",
            "Product title: fylo womens size large lightweight blouse ivory \n",
            "Product Type : SHIRT\n",
            "Euclidean Distance : 0.0831890330807703\n"
          ],
          "name": "stdout"
        },
        {
          "output_type": "display_data",
          "data": {
            "image/jpeg": "[encoded data removed]",
            "text/plain": [
              "<IPython.core.display.Image object>"
            ]
          },
          "metadata": {
            "tags": []
          }
        },
        {
          "output_type": "stream",
          "text": [
            "ASIN : B072JZD68D\n",
            "Product Title:  nene nene leakes kimonostyle cardigan 476048 antique moss \n",
            "Brand : Grace\n",
            "Product title: grace womens royal ivory blouse 34 sleeve flow large \n",
            "Product Type : SHIRT\n",
            "Euclidean Distance : 0.0831890330807703\n"
          ],
          "name": "stdout"
        }
      ]
    },
    {
      "cell_type": "code",
      "metadata": {
        "id": "jMaMjEWm_GBd",
        "colab_type": "code",
        "outputId": "c66866ae-7800-41da-957c-62d63c1b2deb",
        "colab": {
          "base_uri": "https://localhost:8080/",
          "height": 2881
        }
      },
      "source": [
        "get_similar_products_cnn(12562,40,60,50,550,11)"
      ],
      "execution_count": 0,
      "outputs": [
        {
          "output_type": "display_data",
          "data": {
            "image/jpeg": "[encoded data removed]",
            "text/plain": [
              "<IPython.core.display.Image object>"
            ]
          },
          "metadata": {
            "tags": []
          }
        },
        {
          "output_type": "stream",
          "text": [
            "ASIN : B01G376G88\n",
            "Product Title:  im huckleberry doc holliday 34sleeve raglan long sleeve \n",
            "Brand : J.Crew\n",
            "Product title: j crew sheer beaded coverup sz style a0370 ivory new \n",
            "Product Type : SHIRT\n",
            "Euclidean Distance : 1.8815557366126867e-11\n"
          ],
          "name": "stdout"
        },
        {
          "output_type": "display_data",
          "data": {
            "image/jpeg": "[encoded data removed]",
            "text/plain": [
              "<IPython.core.display.Image object>"
            ]
          },
          "metadata": {
            "tags": []
          }
        },
        {
          "output_type": "stream",
          "text": [
            "ASIN : B01LW7OWOX\n",
            "Product Title:  toogoor women spring autumn sexy lace short tops tshirt neck long sleeve bandage cropped short tshirtswhitesus4uk8 \n",
            "Brand : J.Crew\n",
            "Product title: j crew collection purple jeweled silk tank top sample one kind size 2 \n",
            "Product Type : SHIRT\n",
            "Euclidean Distance : 0.10101525445522108\n"
          ],
          "name": "stdout"
        },
        {
          "output_type": "display_data",
          "data": {
            "image/jpeg": "[encoded data removed]",
            "text/plain": [
              "<IPython.core.display.Image object>"
            ]
          },
          "metadata": {
            "tags": []
          }
        },
        {
          "output_type": "stream",
          "text": [
            "ASIN : B071S2VKT5\n",
            "Product Title:  alfani deep womens large tunic mesh asymmetric blouse black l \n",
            "Brand : J.Crew\n",
            "Product title: j crew factory sheer dotted split neck blouse \n",
            "Product Type : SWEATER\n",
            "Euclidean Distance : 0.10101525445522108\n"
          ],
          "name": "stdout"
        },
        {
          "output_type": "display_data",
          "data": {
            "image/jpeg": "[encoded data removed]",
            "text/plain": [
              "<IPython.core.display.Image object>"
            ]
          },
          "metadata": {
            "tags": []
          }
        },
        {
          "output_type": "stream",
          "text": [
            "ASIN : B01J6M8C48\n",
            "Product Title:  pardon french shortsleeve womens crew tee \n",
            "Brand : J.Crew\n",
            "Product title: j crew denim vest calyer wash \n",
            "Product Type : SHIRT\n",
            "Euclidean Distance : 0.10101525445522108\n"
          ],
          "name": "stdout"
        },
        {
          "output_type": "display_data",
          "data": {
            "image/jpeg": "[encoded data removed]",
            "text/plain": [
              "<IPython.core.display.Image object>"
            ]
          },
          "metadata": {
            "tags": []
          }
        },
        {
          "output_type": "stream",
          "text": [
            "ASIN : B06X1CKXFM\n",
            "Product Title:  marc marc jacobs womens ruched scoop neck blouse black xs \n",
            "Brand : J.Crew\n",
            "Product title: jcrew perfect shirt foil dot navy \n",
            "Product Type : SHIRT\n",
            "Euclidean Distance : 0.10101525445522108\n"
          ],
          "name": "stdout"
        },
        {
          "output_type": "display_data",
          "data": {
            "image/jpeg": "[encoded data removed]",
            "text/plain": [
              "<IPython.core.display.Image object>"
            ]
          },
          "metadata": {
            "tags": []
          }
        },
        {
          "output_type": "stream",
          "text": [
            "ASIN : B01MAT31YT\n",
            "Product Title:  self esteem layeredlook tank top suede vest size \n",
            "Brand : J.Crew\n",
            "Product title: j crew vneck bandsleeve shell \n",
            "Product Type : SHIRT\n",
            "Euclidean Distance : 0.10101525445522108\n"
          ],
          "name": "stdout"
        },
        {
          "output_type": "display_data",
          "data": {
            "image/jpeg": "[encoded data removed]",
            "text/plain": [
              "<IPython.core.display.Image object>"
            ]
          },
          "metadata": {
            "tags": []
          }
        },
        {
          "output_type": "stream",
          "text": [
            "ASIN : B01E13D2GU\n",
            "Product Title:  ella moon womens solana long sleeve tie neck cold shoulder blouse navy plumier medium \n",
            "Brand : J.Crew\n",
            "Product title: play comme des garcons j crew big heart shirt size \n",
            "Product Type : SHIRT\n",
            "Euclidean Distance : 0.10101525445522108\n"
          ],
          "name": "stdout"
        },
        {
          "output_type": "display_data",
          "data": {
            "image/jpeg": "[encoded data removed]",
            "text/plain": [
              "<IPython.core.display.Image object>"
            ]
          },
          "metadata": {
            "tags": []
          }
        },
        {
          "output_type": "stream",
          "text": [
            "ASIN : B01GYC3W2U\n",
            "Product Title:  banana republic womens pleatedunderlay tank valliant poppy red small \n",
            "Brand : J.Crew\n",
            "Product title: j crew play comme des garcons gold heart tshirt size style e3054 white new \n",
            "Product Type : SHIRT\n",
            "Euclidean Distance : 0.10101525445522108\n"
          ],
          "name": "stdout"
        },
        {
          "output_type": "display_data",
          "data": {
            "image/jpeg": "[encoded data removed]",
            "text/plain": [
              "<IPython.core.display.Image object>"
            ]
          },
          "metadata": {
            "tags": []
          }
        },
        {
          "output_type": "stream",
          "text": [
            "ASIN : B01LZDRMJ6\n",
            "Product Title:  oddi womens short sleeve ruffle top taupe cotton shirts small \n",
            "Brand : J.Crew\n",
            "Product title: jcrew petite collarless buttonup shirt indigo 10 \n",
            "Product Type : SHIRT\n",
            "Euclidean Distance : 0.10101525445522108\n"
          ],
          "name": "stdout"
        },
        {
          "output_type": "display_data",
          "data": {
            "image/jpeg": "[encoded data removed]",
            "text/plain": [
              "<IPython.core.display.Image object>"
            ]
          },
          "metadata": {
            "tags": []
          }
        },
        {
          "output_type": "stream",
          "text": [
            "ASIN : B010UKPZHC\n",
            "Product Title:  fifteen twenty sleeveless denim shirt size medium \n",
            "Brand : NioBe\n",
            "Product title: womens rayon span comfortable 34 sleeve tunic top solid xl ivory \n",
            "Product Type : SHIRT\n",
            "Euclidean Distance : 0.12121830534626529\n"
          ],
          "name": "stdout"
        },
        {
          "output_type": "display_data",
          "data": {
            "image/jpeg": "[encoded data removed]",
            "text/plain": [
              "<IPython.core.display.Image object>"
            ]
          },
          "metadata": {
            "tags": []
          }
        },
        {
          "output_type": "stream",
          "text": [
            "ASIN : B01N55I9ZR\n",
            "Product Title:  foi indian vintage cotton top women ehs hippie blusa dress ethnic blouse \n",
            "Brand : XOXO\n",
            "Product title: xoxo womens ls wrap front cardigan ivory small \n",
            "Product Type : SHIRT\n",
            "Euclidean Distance : 0.12121830534626529\n"
          ],
          "name": "stdout"
        }
      ]
    },
    {
      "cell_type": "code",
      "metadata": {
        "id": "e_b3smTF_GEL",
        "colab_type": "code",
        "colab": {}
      },
      "source": [
        ""
      ],
      "execution_count": 0,
      "outputs": []
    },
    {
      "cell_type": "markdown",
      "metadata": {
        "id": "cppEG8-2oFK8",
        "colab_type": "text"
      },
      "source": [
        "## **Observations**\n",
        "Apparel recommendation tried using text , brand , image and colour. Weights are varied for each feature. Different results are observed with different weights."
      ]
    }
  ]
}